{
  "nbformat": 4,
  "nbformat_minor": 0,
  "metadata": {
    "colab": {
      "provenance": []
    },
    "kernelspec": {
      "name": "python3",
      "display_name": "Python 3"
    },
    "language_info": {
      "name": "python"
    }
  },
  "cells": [
    {
      "cell_type": "code",
      "source": [
        "!pip install category_encoders\n",
        "!pip install xgboost==1.7.2\n",
        "!pip install scikit-learn==1.1.3"
      ],
      "metadata": {
        "colab": {
          "base_uri": "https://localhost:8080/"
        },
        "id": "zlbUzNyGTC-U",
        "outputId": "523a4921-7a38-4a19-f1b7-0e5003e2d63a"
      },
      "execution_count": null,
      "outputs": [
        {
          "output_type": "stream",
          "name": "stdout",
          "text": [
            "Looking in indexes: https://pypi.org/simple, https://us-python.pkg.dev/colab-wheels/public/simple/\n",
            "Requirement already satisfied: category_encoders in /usr/local/lib/python3.9/dist-packages (2.6.0)\n",
            "Requirement already satisfied: pandas>=1.0.5 in /usr/local/lib/python3.9/dist-packages (from category_encoders) (1.4.4)\n",
            "Requirement already satisfied: scipy>=1.0.0 in /usr/local/lib/python3.9/dist-packages (from category_encoders) (1.10.1)\n",
            "Requirement already satisfied: scikit-learn>=0.20.0 in /usr/local/lib/python3.9/dist-packages (from category_encoders) (1.1.3)\n",
            "Requirement already satisfied: patsy>=0.5.1 in /usr/local/lib/python3.9/dist-packages (from category_encoders) (0.5.3)\n",
            "Requirement already satisfied: numpy>=1.14.0 in /usr/local/lib/python3.9/dist-packages (from category_encoders) (1.22.4)\n",
            "Requirement already satisfied: statsmodels>=0.9.0 in /usr/local/lib/python3.9/dist-packages (from category_encoders) (0.13.5)\n",
            "Requirement already satisfied: python-dateutil>=2.8.1 in /usr/local/lib/python3.9/dist-packages (from pandas>=1.0.5->category_encoders) (2.8.2)\n",
            "Requirement already satisfied: pytz>=2020.1 in /usr/local/lib/python3.9/dist-packages (from pandas>=1.0.5->category_encoders) (2022.7.1)\n",
            "Requirement already satisfied: six in /usr/local/lib/python3.9/dist-packages (from patsy>=0.5.1->category_encoders) (1.16.0)\n",
            "Requirement already satisfied: threadpoolctl>=2.0.0 in /usr/local/lib/python3.9/dist-packages (from scikit-learn>=0.20.0->category_encoders) (3.1.0)\n",
            "Requirement already satisfied: joblib>=1.0.0 in /usr/local/lib/python3.9/dist-packages (from scikit-learn>=0.20.0->category_encoders) (1.1.1)\n",
            "Requirement already satisfied: packaging>=21.3 in /usr/local/lib/python3.9/dist-packages (from statsmodels>=0.9.0->category_encoders) (23.0)\n",
            "Looking in indexes: https://pypi.org/simple, https://us-python.pkg.dev/colab-wheels/public/simple/\n",
            "Requirement already satisfied: xgboost==1.7.2 in /usr/local/lib/python3.9/dist-packages (1.7.2)\n",
            "Requirement already satisfied: numpy in /usr/local/lib/python3.9/dist-packages (from xgboost==1.7.2) (1.22.4)\n",
            "Requirement already satisfied: scipy in /usr/local/lib/python3.9/dist-packages (from xgboost==1.7.2) (1.10.1)\n",
            "Looking in indexes: https://pypi.org/simple, https://us-python.pkg.dev/colab-wheels/public/simple/\n",
            "Requirement already satisfied: scikit-learn==1.1.3 in /usr/local/lib/python3.9/dist-packages (1.1.3)\n",
            "Requirement already satisfied: scipy>=1.3.2 in /usr/local/lib/python3.9/dist-packages (from scikit-learn==1.1.3) (1.10.1)\n",
            "Requirement already satisfied: threadpoolctl>=2.0.0 in /usr/local/lib/python3.9/dist-packages (from scikit-learn==1.1.3) (3.1.0)\n",
            "Requirement already satisfied: joblib>=1.0.0 in /usr/local/lib/python3.9/dist-packages (from scikit-learn==1.1.3) (1.1.1)\n",
            "Requirement already satisfied: numpy>=1.17.3 in /usr/local/lib/python3.9/dist-packages (from scikit-learn==1.1.3) (1.22.4)\n"
          ]
        }
      ]
    },
    {
      "cell_type": "code",
      "source": [
        "# 라이브러리 불러오기\n",
        "import pandas as pd\n",
        "import numpy as np\n",
        "import matplotlib.pyplot as plt\n",
        "import seaborn as sns\n",
        "from sklearn.model_selection import train_test_split\n",
        "from sklearn.preprocessing import StandardScaler\n",
        "from category_encoders import OneHotEncoder\n",
        "from sklearn.model_selection import cross_val_score\n",
        "from sklearn.linear_model import LinearRegression, RidgeCV, LassoCV, Ridge, Lasso\n",
        "from sklearn.pipeline import make_pipeline\n",
        "from sklearn.metrics import roc_auc_score\n",
        "from sklearn.tree import DecisionTreeRegressor\n",
        "from sklearn.ensemble import RandomForestRegressor\n",
        "from xgboost import XGBRegressor\n",
        "from sklearn.metrics import r2_score, mean_absolute_error"
      ],
      "metadata": {
        "id": "BH1lD3ZVI1Zs"
      },
      "execution_count": null,
      "outputs": []
    },
    {
      "cell_type": "code",
      "execution_count": null,
      "metadata": {
        "colab": {
          "base_uri": "https://localhost:8080/",
          "height": 74
        },
        "id": "Ev3WyHwY8BXs",
        "outputId": "6f9b722d-4492-4eed-c5a2-3634c480db28"
      },
      "outputs": [
        {
          "output_type": "display_data",
          "data": {
            "text/plain": [
              "<IPython.core.display.HTML object>"
            ],
            "text/html": [
              "\n",
              "     <input type=\"file\" id=\"files-a80e412a-2abe-4a48-9f05-c1dffc40b266\" name=\"files[]\" multiple disabled\n",
              "        style=\"border:none\" />\n",
              "     <output id=\"result-a80e412a-2abe-4a48-9f05-c1dffc40b266\">\n",
              "      Upload widget is only available when the cell has been executed in the\n",
              "      current browser session. Please rerun this cell to enable.\n",
              "      </output>\n",
              "      <script>// Copyright 2017 Google LLC\n",
              "//\n",
              "// Licensed under the Apache License, Version 2.0 (the \"License\");\n",
              "// you may not use this file except in compliance with the License.\n",
              "// You may obtain a copy of the License at\n",
              "//\n",
              "//      http://www.apache.org/licenses/LICENSE-2.0\n",
              "//\n",
              "// Unless required by applicable law or agreed to in writing, software\n",
              "// distributed under the License is distributed on an \"AS IS\" BASIS,\n",
              "// WITHOUT WARRANTIES OR CONDITIONS OF ANY KIND, either express or implied.\n",
              "// See the License for the specific language governing permissions and\n",
              "// limitations under the License.\n",
              "\n",
              "/**\n",
              " * @fileoverview Helpers for google.colab Python module.\n",
              " */\n",
              "(function(scope) {\n",
              "function span(text, styleAttributes = {}) {\n",
              "  const element = document.createElement('span');\n",
              "  element.textContent = text;\n",
              "  for (const key of Object.keys(styleAttributes)) {\n",
              "    element.style[key] = styleAttributes[key];\n",
              "  }\n",
              "  return element;\n",
              "}\n",
              "\n",
              "// Max number of bytes which will be uploaded at a time.\n",
              "const MAX_PAYLOAD_SIZE = 100 * 1024;\n",
              "\n",
              "function _uploadFiles(inputId, outputId) {\n",
              "  const steps = uploadFilesStep(inputId, outputId);\n",
              "  const outputElement = document.getElementById(outputId);\n",
              "  // Cache steps on the outputElement to make it available for the next call\n",
              "  // to uploadFilesContinue from Python.\n",
              "  outputElement.steps = steps;\n",
              "\n",
              "  return _uploadFilesContinue(outputId);\n",
              "}\n",
              "\n",
              "// This is roughly an async generator (not supported in the browser yet),\n",
              "// where there are multiple asynchronous steps and the Python side is going\n",
              "// to poll for completion of each step.\n",
              "// This uses a Promise to block the python side on completion of each step,\n",
              "// then passes the result of the previous step as the input to the next step.\n",
              "function _uploadFilesContinue(outputId) {\n",
              "  const outputElement = document.getElementById(outputId);\n",
              "  const steps = outputElement.steps;\n",
              "\n",
              "  const next = steps.next(outputElement.lastPromiseValue);\n",
              "  return Promise.resolve(next.value.promise).then((value) => {\n",
              "    // Cache the last promise value to make it available to the next\n",
              "    // step of the generator.\n",
              "    outputElement.lastPromiseValue = value;\n",
              "    return next.value.response;\n",
              "  });\n",
              "}\n",
              "\n",
              "/**\n",
              " * Generator function which is called between each async step of the upload\n",
              " * process.\n",
              " * @param {string} inputId Element ID of the input file picker element.\n",
              " * @param {string} outputId Element ID of the output display.\n",
              " * @return {!Iterable<!Object>} Iterable of next steps.\n",
              " */\n",
              "function* uploadFilesStep(inputId, outputId) {\n",
              "  const inputElement = document.getElementById(inputId);\n",
              "  inputElement.disabled = false;\n",
              "\n",
              "  const outputElement = document.getElementById(outputId);\n",
              "  outputElement.innerHTML = '';\n",
              "\n",
              "  const pickedPromise = new Promise((resolve) => {\n",
              "    inputElement.addEventListener('change', (e) => {\n",
              "      resolve(e.target.files);\n",
              "    });\n",
              "  });\n",
              "\n",
              "  const cancel = document.createElement('button');\n",
              "  inputElement.parentElement.appendChild(cancel);\n",
              "  cancel.textContent = 'Cancel upload';\n",
              "  const cancelPromise = new Promise((resolve) => {\n",
              "    cancel.onclick = () => {\n",
              "      resolve(null);\n",
              "    };\n",
              "  });\n",
              "\n",
              "  // Wait for the user to pick the files.\n",
              "  const files = yield {\n",
              "    promise: Promise.race([pickedPromise, cancelPromise]),\n",
              "    response: {\n",
              "      action: 'starting',\n",
              "    }\n",
              "  };\n",
              "\n",
              "  cancel.remove();\n",
              "\n",
              "  // Disable the input element since further picks are not allowed.\n",
              "  inputElement.disabled = true;\n",
              "\n",
              "  if (!files) {\n",
              "    return {\n",
              "      response: {\n",
              "        action: 'complete',\n",
              "      }\n",
              "    };\n",
              "  }\n",
              "\n",
              "  for (const file of files) {\n",
              "    const li = document.createElement('li');\n",
              "    li.append(span(file.name, {fontWeight: 'bold'}));\n",
              "    li.append(span(\n",
              "        `(${file.type || 'n/a'}) - ${file.size} bytes, ` +\n",
              "        `last modified: ${\n",
              "            file.lastModifiedDate ? file.lastModifiedDate.toLocaleDateString() :\n",
              "                                    'n/a'} - `));\n",
              "    const percent = span('0% done');\n",
              "    li.appendChild(percent);\n",
              "\n",
              "    outputElement.appendChild(li);\n",
              "\n",
              "    const fileDataPromise = new Promise((resolve) => {\n",
              "      const reader = new FileReader();\n",
              "      reader.onload = (e) => {\n",
              "        resolve(e.target.result);\n",
              "      };\n",
              "      reader.readAsArrayBuffer(file);\n",
              "    });\n",
              "    // Wait for the data to be ready.\n",
              "    let fileData = yield {\n",
              "      promise: fileDataPromise,\n",
              "      response: {\n",
              "        action: 'continue',\n",
              "      }\n",
              "    };\n",
              "\n",
              "    // Use a chunked sending to avoid message size limits. See b/62115660.\n",
              "    let position = 0;\n",
              "    do {\n",
              "      const length = Math.min(fileData.byteLength - position, MAX_PAYLOAD_SIZE);\n",
              "      const chunk = new Uint8Array(fileData, position, length);\n",
              "      position += length;\n",
              "\n",
              "      const base64 = btoa(String.fromCharCode.apply(null, chunk));\n",
              "      yield {\n",
              "        response: {\n",
              "          action: 'append',\n",
              "          file: file.name,\n",
              "          data: base64,\n",
              "        },\n",
              "      };\n",
              "\n",
              "      let percentDone = fileData.byteLength === 0 ?\n",
              "          100 :\n",
              "          Math.round((position / fileData.byteLength) * 100);\n",
              "      percent.textContent = `${percentDone}% done`;\n",
              "\n",
              "    } while (position < fileData.byteLength);\n",
              "  }\n",
              "\n",
              "  // All done.\n",
              "  yield {\n",
              "    response: {\n",
              "      action: 'complete',\n",
              "    }\n",
              "  };\n",
              "}\n",
              "\n",
              "scope.google = scope.google || {};\n",
              "scope.google.colab = scope.google.colab || {};\n",
              "scope.google.colab._files = {\n",
              "  _uploadFiles,\n",
              "  _uploadFilesContinue,\n",
              "};\n",
              "})(self);\n",
              "</script> "
            ]
          },
          "metadata": {}
        },
        {
          "output_type": "stream",
          "name": "stdout",
          "text": [
            "Saving final_data_2.csv to final_data_2 (1).csv\n"
          ]
        }
      ],
      "source": [
        "# 파일 업로드\n",
        "from google.colab import files\n",
        "files.upload()\n",
        "data = pd.read_csv('final_data_2.csv')"
      ]
    },
    {
      "cell_type": "code",
      "source": [
        "df = data.copy()"
      ],
      "metadata": {
        "id": "Fe7qa3UnMlLW"
      },
      "execution_count": null,
      "outputs": []
    },
    {
      "cell_type": "markdown",
      "source": [
        "**전처리까지 모두 마친 데이터이기 때문에 바로 데이터셋 분리 진행**\n",
        "\n",
        "\n"
      ],
      "metadata": {
        "id": "7vcJHHZcQj5n"
      }
    },
    {
      "cell_type": "code",
      "source": [
        "df.columns"
      ],
      "metadata": {
        "colab": {
          "base_uri": "https://localhost:8080/"
        },
        "id": "WhGpdFksWJLh",
        "outputId": "b907a244-92c9-4ac9-ffdb-3f0cb766db72"
      },
      "execution_count": null,
      "outputs": [
        {
          "output_type": "execute_result",
          "data": {
            "text/plain": [
              "Index(['season', 'month', 'day', 'installed_capacity', 'full_power',\n",
              "       'average_temperature', 'highest_temperature', 'lowest_temperature',\n",
              "       'precipitation', 'average_wind_speed', 'max_wind_speed',\n",
              "       'average_humidity', 'lowest_humidity'],\n",
              "      dtype='object')"
            ]
          },
          "metadata": {},
          "execution_count": 65
        }
      ]
    },
    {
      "cell_type": "code",
      "source": [
        "# 데이터셋 분리\n",
        "target = 'full_power'\n",
        "features = df.drop(target, axis=1).columns\n",
        "\n",
        "X = df[features]\n",
        "y = df[target]"
      ],
      "metadata": {
        "id": "ktIw8kdNQvHx"
      },
      "execution_count": null,
      "outputs": []
    },
    {
      "cell_type": "code",
      "source": [
        "# train/val/test 분리\n",
        "X_train, X_test, y_train, y_test = train_test_split(X, y, test_size = 0.2)\n",
        "X_train, X_val, y_train, y_val = train_test_split(X_train, y_train, test_size = 0.2)"
      ],
      "metadata": {
        "id": "bArdq7LEWuhl"
      },
      "execution_count": null,
      "outputs": []
    },
    {
      "cell_type": "code",
      "source": [
        "# 확인\n",
        "print('train set:', X_train.shape, y_train.shape)\n",
        "print('val set:', X_val.shape, y_val.shape)\n",
        "print('test set:', X_test.shape, y_test.shape)"
      ],
      "metadata": {
        "colab": {
          "base_uri": "https://localhost:8080/"
        },
        "id": "v4WdXhQRXlzs",
        "outputId": "e7bd9b59-26dc-44ea-f690-95e79085636a"
      },
      "execution_count": null,
      "outputs": [
        {
          "output_type": "stream",
          "name": "stdout",
          "text": [
            "train set: (4361, 12) (4361,)\n",
            "val set: (1091, 12) (1091,)\n",
            "test set: (1364, 12) (1364,)\n"
          ]
        }
      ]
    },
    {
      "cell_type": "code",
      "source": [
        "# 스케일링\n",
        "numeric_feats = X_train.dtypes[X_train.dtypes != \"object\"].index\n",
        "\n",
        "scaler = StandardScaler()\n",
        "X_train[numeric_feats] = scaler.fit_transform(X_train[numeric_feats])\n",
        "X_val[numeric_feats] = scaler.transform(X_val[numeric_feats])\n",
        "X_test[numeric_feats] = scaler.transform(X_test[numeric_feats])"
      ],
      "metadata": {
        "id": "__2PI7D_Xt2N"
      },
      "execution_count": null,
      "outputs": []
    },
    {
      "cell_type": "code",
      "source": [
        "# 인코딩\n",
        "ohe = OneHotEncoder()\n",
        "\n",
        "X_train_ohe = ohe.fit_transform(X_train)\n",
        "X_val_ohe = ohe.transform(X_val)\n",
        "X_test_ohe = ohe.transform(X_test)"
      ],
      "metadata": {
        "id": "8y_2cntiYbjJ"
      },
      "execution_count": null,
      "outputs": []
    },
    {
      "cell_type": "code",
      "source": [
        "# 기준모델 생성\n",
        "baseline = [y_train.mean()] * len(y_train)\n",
        "\n",
        "# 기준모델 r2, mae\n",
        "base_r2 = r2_score(y_train,baseline)\n",
        "base_mae = mean_absolute_error(y_train,baseline)\n",
        "\n",
        "# 기준모델 r2, mae 확인\n",
        "print('baseline r2 score : ', base_r2)\n",
        "print('baseline mae score : ', base_mae)"
      ],
      "metadata": {
        "colab": {
          "base_uri": "https://localhost:8080/"
        },
        "id": "xYHjdONGYiXi",
        "outputId": "bbdad861-afcd-4bb0-801e-e02f732527d3"
      },
      "execution_count": null,
      "outputs": [
        {
          "output_type": "stream",
          "name": "stdout",
          "text": [
            "baseline r2 score :  0.0\n",
            "baseline mae score :  9164.591139354521\n"
          ]
        }
      ]
    },
    {
      "cell_type": "code",
      "source": [
        "# score을 반환하는 함수\n",
        "def print_score(model, X_train, y_train, X_val, y_val) :\n",
        "\n",
        "    pred_train = model.predict(X_train)\n",
        "    pred_val = model.predict(X_val)\n",
        "    print('train r2 score : ', r2_score(y_train,pred_train))\n",
        "    print('val MAE score : ', mean_absolute_error(y_val,pred_val))\n",
        "    print('')\n",
        "    print('train MAE score : ', mean_absolute_error(y_train,pred_train))\n",
        "    print('val r2 score : ', r2_score(y_val,pred_val))\n",
        "\n",
        "    return None"
      ],
      "metadata": {
        "id": "UqTJtdfxa9k9"
      },
      "execution_count": null,
      "outputs": []
    },
    {
      "cell_type": "markdown",
      "source": [
        "### Multiple Linear Regression"
      ],
      "metadata": {
        "id": "C07SsM79OiK9"
      }
    },
    {
      "cell_type": "code",
      "source": [
        "# 다중선형회귀 학습\n",
        "multiple_ols = LinearRegression()\n",
        "multiple_ols.fit(X_train_ohe,y_train)\n",
        "\n",
        "# 다중선형회귀 r2, mae\n",
        "pred_train = multiple_ols.predict(X_train_ohe)\n",
        "pred_val = multiple_ols.predict(X_val_ohe)\n",
        "multiple_r2 = r2_score(y_val,pred_val)\n",
        "multiple_mae = mean_absolute_error(y_val,pred_val)\n",
        "\n",
        "# 다중선형회귀 r2, mae 확인\n",
        "print('train r2 score : ', r2_score(y_train,pred_train))\n",
        "print('train MAE score : ', mean_absolute_error(y_train,pred_train))\n",
        "print('')\n",
        "print('val r2 score : ', multiple_r2)\n",
        "print('val MAE score : ', multiple_mae)"
      ],
      "metadata": {
        "colab": {
          "base_uri": "https://localhost:8080/"
        },
        "id": "QGaQ0VCUO0_A",
        "outputId": "b6e6df1f-fa3e-4ee2-f8ce-c822dca1affa"
      },
      "execution_count": null,
      "outputs": [
        {
          "output_type": "stream",
          "name": "stdout",
          "text": [
            "train r2 score :  0.6164334214204479\n",
            "train MAE score :  5665.965818385466\n",
            "\n",
            "val r2 score :  0.6442611636714077\n",
            "val MAE score :  5499.649969457047\n"
          ]
        }
      ]
    },
    {
      "cell_type": "markdown",
      "source": [
        "### RidgeCV"
      ],
      "metadata": {
        "id": "IVU5u38EO1sk"
      }
    },
    {
      "cell_type": "code",
      "source": [
        "# ridgecv 학습\n",
        "alphas = np.arange(1, 100, 1)\n",
        "ridge = RidgeCV(alphas=alphas, cv=5)\n",
        "ridge.fit(X_train_ohe, y_train)\n",
        "\n",
        "# 최적의 알파값\n",
        "print(\"alpha: \", ridge.alpha_)\n",
        "print()\n",
        "\n",
        "# ridgecv r2, mae\n",
        "pred_train = ridge.predict(X_train_ohe)\n",
        "pred_val = ridge.predict(X_val_ohe)\n",
        "ridge_r2 = r2_score(y_val,pred_val)\n",
        "ridge_mae = mean_absolute_error(y_val,pred_val)\n",
        "\n",
        "# ridgecv r2, mae 확인\n",
        "print('train r2 score : ', r2_score(y_train,pred_train))\n",
        "print('train MAE score : ', mean_absolute_error(y_train,pred_train))\n",
        "print('')\n",
        "print('val r2 score : ', ridge_r2)\n",
        "print('val MAE score : ', ridge_mae)"
      ],
      "metadata": {
        "colab": {
          "base_uri": "https://localhost:8080/"
        },
        "id": "vyvx0kZgPH3q",
        "outputId": "598c1d5a-b83c-4bb9-d259-bad600335e5c"
      },
      "execution_count": null,
      "outputs": [
        {
          "output_type": "stream",
          "name": "stdout",
          "text": [
            "alpha:  13\n",
            "\n",
            "train r2 score :  0.6163905872641631\n",
            "train MAE score :  5668.15367957241\n",
            "\n",
            "val r2 score :  0.6438456174602831\n",
            "val MAE score :  5505.418256666469\n"
          ]
        }
      ]
    },
    {
      "cell_type": "markdown",
      "source": [
        "### LassoCV"
      ],
      "metadata": {
        "id": "go0tzNTBO9q7"
      }
    },
    {
      "cell_type": "code",
      "source": [
        "# lassocv 학습\n",
        "alphas = np.arange(1, 100, 1)\n",
        "lasso = LassoCV(alphas=alphas, cv=5)\n",
        "lasso.fit(X_train_ohe, y_train)\n",
        "\n",
        "# 최적의 알파값\n",
        "print(\"alpha: \", lasso.alpha_)\n",
        "print()\n",
        "\n",
        "# lassocv r2, mae\n",
        "pred_train = lasso.predict(X_train_ohe)\n",
        "pred_val = lasso.predict(X_val_ohe)\n",
        "lasso_r2 = r2_score(y_val,pred_val)\n",
        "lasso_mae = mean_absolute_error(y_val,pred_val)\n",
        "\n",
        "# lassocv r2, mae 확인\n",
        "print('train r2 score : ', r2_score(y_train,pred_train))\n",
        "print('train MAE score : ', mean_absolute_error(y_train,pred_train))\n",
        "print('')\n",
        "print('val r2 score : ', lasso_r2)\n",
        "print('val MAE score : ', lasso_mae)"
      ],
      "metadata": {
        "colab": {
          "base_uri": "https://localhost:8080/"
        },
        "id": "hDkij-R0PITm",
        "outputId": "b15e11e9-f99f-4090-96ab-1c9bab46705e"
      },
      "execution_count": null,
      "outputs": [
        {
          "output_type": "stream",
          "name": "stderr",
          "text": [
            "/usr/local/lib/python3.9/dist-packages/sklearn/linear_model/_coordinate_descent.py:634: ConvergenceWarning: Objective did not converge. You might want to increase the number of iterations. Duality gap: 70529385.60708618, tolerance: 42967426.077460095\n",
            "  model = cd_fast.enet_coordinate_descent_gram(\n",
            "/usr/local/lib/python3.9/dist-packages/sklearn/linear_model/_coordinate_descent.py:634: ConvergenceWarning: Objective did not converge. You might want to increase the number of iterations. Duality gap: 146253924.92782593, tolerance: 42967426.077460095\n",
            "  model = cd_fast.enet_coordinate_descent_gram(\n",
            "/usr/local/lib/python3.9/dist-packages/sklearn/linear_model/_coordinate_descent.py:634: ConvergenceWarning: Objective did not converge. You might want to increase the number of iterations. Duality gap: 513804907.08480835, tolerance: 42967426.077460095\n",
            "  model = cd_fast.enet_coordinate_descent_gram(\n",
            "/usr/local/lib/python3.9/dist-packages/sklearn/linear_model/_coordinate_descent.py:634: ConvergenceWarning: Objective did not converge. You might want to increase the number of iterations. Duality gap: 93418407.17834473, tolerance: 43218770.76756222\n",
            "  model = cd_fast.enet_coordinate_descent_gram(\n",
            "/usr/local/lib/python3.9/dist-packages/sklearn/linear_model/_coordinate_descent.py:634: ConvergenceWarning: Objective did not converge. You might want to increase the number of iterations. Duality gap: 419619862.5348511, tolerance: 43218770.76756222\n",
            "  model = cd_fast.enet_coordinate_descent_gram(\n",
            "/usr/local/lib/python3.9/dist-packages/sklearn/linear_model/_coordinate_descent.py:634: ConvergenceWarning: Objective did not converge. You might want to increase the number of iterations. Duality gap: 55865989.86456299, tolerance: 43675105.25034807\n",
            "  model = cd_fast.enet_coordinate_descent_gram(\n",
            "/usr/local/lib/python3.9/dist-packages/sklearn/linear_model/_coordinate_descent.py:634: ConvergenceWarning: Objective did not converge. You might want to increase the number of iterations. Duality gap: 113493291.65405273, tolerance: 43675105.25034807\n",
            "  model = cd_fast.enet_coordinate_descent_gram(\n",
            "/usr/local/lib/python3.9/dist-packages/sklearn/linear_model/_coordinate_descent.py:634: ConvergenceWarning: Objective did not converge. You might want to increase the number of iterations. Duality gap: 405973858.83636475, tolerance: 43675105.25034807\n",
            "  model = cd_fast.enet_coordinate_descent_gram(\n",
            "/usr/local/lib/python3.9/dist-packages/sklearn/linear_model/_coordinate_descent.py:634: ConvergenceWarning: Objective did not converge. You might want to increase the number of iterations. Duality gap: 55160937.08898926, tolerance: 43629475.11180006\n",
            "  model = cd_fast.enet_coordinate_descent_gram(\n",
            "/usr/local/lib/python3.9/dist-packages/sklearn/linear_model/_coordinate_descent.py:634: ConvergenceWarning: Objective did not converge. You might want to increase the number of iterations. Duality gap: 111667463.9225769, tolerance: 43629475.11180006\n",
            "  model = cd_fast.enet_coordinate_descent_gram(\n",
            "/usr/local/lib/python3.9/dist-packages/sklearn/linear_model/_coordinate_descent.py:634: ConvergenceWarning: Objective did not converge. You might want to increase the number of iterations. Duality gap: 400833417.1270447, tolerance: 43629475.11180006\n",
            "  model = cd_fast.enet_coordinate_descent_gram(\n"
          ]
        },
        {
          "output_type": "stream",
          "name": "stdout",
          "text": [
            "alpha:  5\n",
            "\n",
            "train r2 score :  0.6163673209201892\n",
            "train MAE score :  5667.441700779584\n",
            "\n",
            "val r2 score :  0.644050442960068\n",
            "val MAE score :  5501.917280397582\n"
          ]
        }
      ]
    },
    {
      "cell_type": "markdown",
      "source": [
        "### DecisionTreeRegressor"
      ],
      "metadata": {
        "id": "gh-4KyXQPFvi"
      }
    },
    {
      "cell_type": "code",
      "source": [
        "# 파이프라인 생성(과대적합을 피하도록 최소한의 하이퍼파라미터만 조정)\n",
        "pipe_dt = make_pipeline(\n",
        "    OneHotEncoder(),\n",
        "    DecisionTreeRegressor(max_depth=4)\n",
        ")\n",
        "\n",
        "# 학습\n",
        "pipe_dt.fit(X_train, y_train)\n",
        "\n",
        "# pipe_dt r2, mae\n",
        "pred_train = pipe_dt.predict(X_train)\n",
        "pred_val = pipe_dt.predict(X_val)\n",
        "pipe_dt_r2 = r2_score(y_val,pred_val)\n",
        "pipe_dt_mae = mean_absolute_error(y_val,pred_val)\n",
        "\n",
        "# pipe_dt r2, mae 확인\n",
        "print('train r2 score : ', r2_score(y_train,pred_train))\n",
        "print('train MAE score : ', mean_absolute_error(y_train,pred_train))\n",
        "print('')\n",
        "print('val r2 score : ', pipe_dt_r2)\n",
        "print('val MAE score : ', pipe_dt_mae)"
      ],
      "metadata": {
        "colab": {
          "base_uri": "https://localhost:8080/"
        },
        "id": "X5-TCjkZ4BSE",
        "outputId": "2a72cb69-4474-41b8-8f3e-bd6952f14226"
      },
      "execution_count": null,
      "outputs": [
        {
          "output_type": "stream",
          "name": "stdout",
          "text": [
            "train r2 score :  0.7347686048133429\n",
            "train MAE score :  4560.720022011655\n",
            "\n",
            "val r2 score :  0.7344038202150652\n",
            "val MAE score :  4685.29153831597\n"
          ]
        }
      ]
    },
    {
      "cell_type": "markdown",
      "source": [
        "### RandomForestRegressor"
      ],
      "metadata": {
        "id": "-mKIRBZEPmg8"
      }
    },
    {
      "cell_type": "code",
      "source": [
        "# 파이프라인 생성(과대적합을 피하도록 최소한의 하이퍼파라미터만 조정)\n",
        "pipe_rf = make_pipeline(\n",
        "    OneHotEncoder(),\n",
        "    RandomForestRegressor(max_depth=3)\n",
        ")\n",
        "\n",
        "# 학습\n",
        "pipe_rf.fit(X_train, y_train)\n",
        "\n",
        "# pipe_rf r2, mae\n",
        "pred_train = pipe_rf.predict(X_train)\n",
        "pred_val = pipe_rf.predict(X_val)\n",
        "pipe_rf_r2 = r2_score(y_val,pred_val)\n",
        "pipe_rf_mae = mean_absolute_error(y_val,pred_val)\n",
        "\n",
        "# pipe_rf r2, mae 확인\n",
        "print('train r2 score : ', r2_score(y_train,pred_train))\n",
        "print('train MAE score : ', mean_absolute_error(y_train,pred_train))\n",
        "print('')\n",
        "print('val r2 score : ', pipe_rf_r2)\n",
        "print('val MAE score : ', pipe_rf_mae)"
      ],
      "metadata": {
        "colab": {
          "base_uri": "https://localhost:8080/"
        },
        "id": "C9pbxYtdPshB",
        "outputId": "a9777adc-b9f9-43a7-9573-1485772daa34"
      },
      "execution_count": null,
      "outputs": [
        {
          "output_type": "stream",
          "name": "stdout",
          "text": [
            "train r2 score :  0.7021992253463998\n",
            "train MAE score :  4809.450902756084\n",
            "\n",
            "val r2 score :  0.709619743582212\n",
            "val MAE score :  4873.315293420683\n"
          ]
        }
      ]
    },
    {
      "cell_type": "markdown",
      "source": [
        "### XGBRegressor"
      ],
      "metadata": {
        "id": "UH5XLus6Ps5Q"
      }
    },
    {
      "cell_type": "code",
      "source": [
        "# 파이프라인 생성(과대적합을 피하도록 최소한의 하이퍼파라미터만 조정)\n",
        "pipe_xgb = make_pipeline(\n",
        "    OneHotEncoder(),\n",
        "    XGBRegressor(eval_metric=\"mae\", max_depth=2)\n",
        ")\n",
        "\n",
        "# 학습\n",
        "pipe_xgb.fit(X_train, y_train)\n",
        "\n",
        "# pipe_xgb r2, mae\n",
        "pred_train = pipe_xgb.predict(X_train)\n",
        "pred_val = pipe_xgb.predict(X_val)\n",
        "pipe_xgb_r2 = r2_score(y_val,pred_val)\n",
        "pipe_xgb_mae = mean_absolute_error(y_val,pred_val)\n",
        "\n",
        "# pipe_xgb r2, mae 확인\n",
        "print('train r2 score : ', r2_score(y_train,pred_train))\n",
        "print('train MAE score : ', mean_absolute_error(y_train,pred_train))\n",
        "print('')\n",
        "print('val r2 score : ', pipe_xgb_r2)\n",
        "print('val MAE score : ', pipe_xgb_mae)"
      ],
      "metadata": {
        "colab": {
          "base_uri": "https://localhost:8080/"
        },
        "id": "2GV7eNvJPxCD",
        "outputId": "d67d9717-0802-4a74-c194-f6378166fdfb"
      },
      "execution_count": null,
      "outputs": [
        {
          "output_type": "stream",
          "name": "stdout",
          "text": [
            "train r2 score :  0.8113755206104004\n",
            "train MAE score :  3953.891783170431\n",
            "\n",
            "val r2 score :  0.7985397894123332\n",
            "val MAE score :  4184.988044941568\n"
          ]
        }
      ]
    },
    {
      "cell_type": "markdown",
      "source": [
        "**val score로 모델 비교**"
      ],
      "metadata": {
        "id": "LiKIMhQP8FL_"
      }
    },
    {
      "cell_type": "code",
      "source": [
        "comprison = pd.DataFrame(\n",
        "    index=['base','Multiple','Ridge','lasso', 'DecisionTree', 'RandomForest', 'XGB'],\n",
        "    columns = ['r2','mae'])\n",
        "comprison['r2'] =[base_r2,multiple_r2, ridge_r2, lasso_r2, pipe_dt_r2, pipe_rf_r2, pipe_xgb_r2]\n",
        "comprison['mae'] =[base_mae,multiple_mae, ridge_mae, lasso_mae, pipe_dt_mae, pipe_rf_mae, pipe_xgb_mae]\n",
        "comprison"
      ],
      "metadata": {
        "colab": {
          "base_uri": "https://localhost:8080/",
          "height": 269
        },
        "id": "GVEsW1e78E2V",
        "outputId": "c8746b88-5969-4bf7-d389-a7143b7d4413"
      },
      "execution_count": null,
      "outputs": [
        {
          "output_type": "execute_result",
          "data": {
            "text/plain": [
              "                    r2          mae\n",
              "base          0.000000  9164.591139\n",
              "Multiple      0.644261  5499.649969\n",
              "Ridge         0.643846  5505.418257\n",
              "lasso         0.644050  5501.917280\n",
              "DecisionTree  0.663827  5129.884111\n",
              "RandomForest  0.709620  4873.315293\n",
              "XGB           0.798540  4184.988045"
            ],
            "text/html": [
              "\n",
              "  <div id=\"df-e8ef328b-6f9e-4569-ba24-90fc52818b82\">\n",
              "    <div class=\"colab-df-container\">\n",
              "      <div>\n",
              "<style scoped>\n",
              "    .dataframe tbody tr th:only-of-type {\n",
              "        vertical-align: middle;\n",
              "    }\n",
              "\n",
              "    .dataframe tbody tr th {\n",
              "        vertical-align: top;\n",
              "    }\n",
              "\n",
              "    .dataframe thead th {\n",
              "        text-align: right;\n",
              "    }\n",
              "</style>\n",
              "<table border=\"1\" class=\"dataframe\">\n",
              "  <thead>\n",
              "    <tr style=\"text-align: right;\">\n",
              "      <th></th>\n",
              "      <th>r2</th>\n",
              "      <th>mae</th>\n",
              "    </tr>\n",
              "  </thead>\n",
              "  <tbody>\n",
              "    <tr>\n",
              "      <th>base</th>\n",
              "      <td>0.000000</td>\n",
              "      <td>9164.591139</td>\n",
              "    </tr>\n",
              "    <tr>\n",
              "      <th>Multiple</th>\n",
              "      <td>0.644261</td>\n",
              "      <td>5499.649969</td>\n",
              "    </tr>\n",
              "    <tr>\n",
              "      <th>Ridge</th>\n",
              "      <td>0.643846</td>\n",
              "      <td>5505.418257</td>\n",
              "    </tr>\n",
              "    <tr>\n",
              "      <th>lasso</th>\n",
              "      <td>0.644050</td>\n",
              "      <td>5501.917280</td>\n",
              "    </tr>\n",
              "    <tr>\n",
              "      <th>DecisionTree</th>\n",
              "      <td>0.663827</td>\n",
              "      <td>5129.884111</td>\n",
              "    </tr>\n",
              "    <tr>\n",
              "      <th>RandomForest</th>\n",
              "      <td>0.709620</td>\n",
              "      <td>4873.315293</td>\n",
              "    </tr>\n",
              "    <tr>\n",
              "      <th>XGB</th>\n",
              "      <td>0.798540</td>\n",
              "      <td>4184.988045</td>\n",
              "    </tr>\n",
              "  </tbody>\n",
              "</table>\n",
              "</div>\n",
              "      <button class=\"colab-df-convert\" onclick=\"convertToInteractive('df-e8ef328b-6f9e-4569-ba24-90fc52818b82')\"\n",
              "              title=\"Convert this dataframe to an interactive table.\"\n",
              "              style=\"display:none;\">\n",
              "        \n",
              "  <svg xmlns=\"http://www.w3.org/2000/svg\" height=\"24px\"viewBox=\"0 0 24 24\"\n",
              "       width=\"24px\">\n",
              "    <path d=\"M0 0h24v24H0V0z\" fill=\"none\"/>\n",
              "    <path d=\"M18.56 5.44l.94 2.06.94-2.06 2.06-.94-2.06-.94-.94-2.06-.94 2.06-2.06.94zm-11 1L8.5 8.5l.94-2.06 2.06-.94-2.06-.94L8.5 2.5l-.94 2.06-2.06.94zm10 10l.94 2.06.94-2.06 2.06-.94-2.06-.94-.94-2.06-.94 2.06-2.06.94z\"/><path d=\"M17.41 7.96l-1.37-1.37c-.4-.4-.92-.59-1.43-.59-.52 0-1.04.2-1.43.59L10.3 9.45l-7.72 7.72c-.78.78-.78 2.05 0 2.83L4 21.41c.39.39.9.59 1.41.59.51 0 1.02-.2 1.41-.59l7.78-7.78 2.81-2.81c.8-.78.8-2.07 0-2.86zM5.41 20L4 18.59l7.72-7.72 1.47 1.35L5.41 20z\"/>\n",
              "  </svg>\n",
              "      </button>\n",
              "      \n",
              "  <style>\n",
              "    .colab-df-container {\n",
              "      display:flex;\n",
              "      flex-wrap:wrap;\n",
              "      gap: 12px;\n",
              "    }\n",
              "\n",
              "    .colab-df-convert {\n",
              "      background-color: #E8F0FE;\n",
              "      border: none;\n",
              "      border-radius: 50%;\n",
              "      cursor: pointer;\n",
              "      display: none;\n",
              "      fill: #1967D2;\n",
              "      height: 32px;\n",
              "      padding: 0 0 0 0;\n",
              "      width: 32px;\n",
              "    }\n",
              "\n",
              "    .colab-df-convert:hover {\n",
              "      background-color: #E2EBFA;\n",
              "      box-shadow: 0px 1px 2px rgba(60, 64, 67, 0.3), 0px 1px 3px 1px rgba(60, 64, 67, 0.15);\n",
              "      fill: #174EA6;\n",
              "    }\n",
              "\n",
              "    [theme=dark] .colab-df-convert {\n",
              "      background-color: #3B4455;\n",
              "      fill: #D2E3FC;\n",
              "    }\n",
              "\n",
              "    [theme=dark] .colab-df-convert:hover {\n",
              "      background-color: #434B5C;\n",
              "      box-shadow: 0px 1px 3px 1px rgba(0, 0, 0, 0.15);\n",
              "      filter: drop-shadow(0px 1px 2px rgba(0, 0, 0, 0.3));\n",
              "      fill: #FFFFFF;\n",
              "    }\n",
              "  </style>\n",
              "\n",
              "      <script>\n",
              "        const buttonEl =\n",
              "          document.querySelector('#df-e8ef328b-6f9e-4569-ba24-90fc52818b82 button.colab-df-convert');\n",
              "        buttonEl.style.display =\n",
              "          google.colab.kernel.accessAllowed ? 'block' : 'none';\n",
              "\n",
              "        async function convertToInteractive(key) {\n",
              "          const element = document.querySelector('#df-e8ef328b-6f9e-4569-ba24-90fc52818b82');\n",
              "          const dataTable =\n",
              "            await google.colab.kernel.invokeFunction('convertToInteractive',\n",
              "                                                     [key], {});\n",
              "          if (!dataTable) return;\n",
              "\n",
              "          const docLinkHtml = 'Like what you see? Visit the ' +\n",
              "            '<a target=\"_blank\" href=https://colab.research.google.com/notebooks/data_table.ipynb>data table notebook</a>'\n",
              "            + ' to learn more about interactive tables.';\n",
              "          element.innerHTML = '';\n",
              "          dataTable['output_type'] = 'display_data';\n",
              "          await google.colab.output.renderOutput(dataTable, element);\n",
              "          const docLink = document.createElement('div');\n",
              "          docLink.innerHTML = docLinkHtml;\n",
              "          element.appendChild(docLink);\n",
              "        }\n",
              "      </script>\n",
              "    </div>\n",
              "  </div>\n",
              "  "
            ]
          },
          "metadata": {},
          "execution_count": 79
        }
      ]
    },
    {
      "cell_type": "markdown",
      "source": [
        "### 최종 모델 ➡️ XGBRegressor"
      ],
      "metadata": {
        "id": "OObIbpsJPxWF"
      }
    }
  ]
}